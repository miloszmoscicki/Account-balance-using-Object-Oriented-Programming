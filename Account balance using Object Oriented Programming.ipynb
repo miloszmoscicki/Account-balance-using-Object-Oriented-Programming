{
 "cells": [
  {
   "cell_type": "code",
   "execution_count": 7,
   "metadata": {},
   "outputs": [],
   "source": [
    "#setting up a Account class\n",
    "class Account:\n",
    "    def __init__ (self,owner,balance):\n",
    "        #creating attributes\n",
    "        self.owner = owner \n",
    "        self.balance = balance\n",
    "    #method for deposit\n",
    "    def deposit(self,amount):\n",
    "        if amount>0:\n",
    "            self.balance = self.balance + amount\n",
    "            print(\"Your money have succesfully deposited. Your current balance is {} £\".format(self.balance))\n",
    "        else:\n",
    "            print(\"You cannot deposit a zero or negative sum\")\n",
    "    #method for wothdrawal\n",
    "    def withdraw(self,amount):\n",
    "        if amount<=self.balance:\n",
    "            self.balance = self.balance - amount\n",
    "            print(\"Your money have been succesfully withdrawn. Your current balance is {} £\".format(self.balance))\n",
    "        elif amount>self.balance:\n",
    "            print(\"You don't have enough funds to withdraw\")\n",
    "        else:\n",
    "            print(\"You cannot withdraw a zero or negative sum\")\n",
    "    #setting up a method for reading account balance and account owner\n",
    "    def __str__(self):\n",
    "        return \"Account owner: {}\\nAccount balance: {}\".format(self.owner,self.balance)\n",
    "    "
   ]
  },
  {
   "cell_type": "code",
   "execution_count": 11,
   "metadata": {},
   "outputs": [
    {
     "name": "stdout",
     "output_type": "stream",
     "text": [
      "Whats your name?: example\n",
      "How much money do you have on your account?: 1500\n",
      "If you want to deposit money type D, if you want to withdraw money type W, if you want to know your account balance type B d\n",
      "How much money would you like to deposit? 100\n",
      "Your money have succesfully deposited. Your current balance is 1600 £\n"
     ]
    }
   ],
   "source": [
    "name = input(\"Whats your name?: \")\n",
    "while True:\n",
    "    try:\n",
    "        bank_balance = int(input(\"How much money do you have on your account?: \"))\n",
    "    except:\n",
    "        print(\"You have entered a wrong format, please type a number\")\n",
    "        continue\n",
    "    else:\n",
    "        break\n",
    "account_data = Account(name,bank_balance)\n",
    "quest = input(\"If you want to deposit money type D, if you want to withdraw money type W, if you want to know your account balance type B \")\n",
    "\n",
    "while quest not in 'bBdDwW':\n",
    "    quest = input(\"If you want to deposit money type D, if you want to withdraw money type W, if you want to know your account balance type B \")\n",
    "\n",
    "if quest == 'd' or quest == 'D':\n",
    "    while True:\n",
    "        try:\n",
    "            deposit_question = int(input(\"How much money would you like to deposit? \"))\n",
    "        except:\n",
    "            print(\"You have entered a wrong format, please type a number\")\n",
    "        else:\n",
    "            break\n",
    "    account_data.deposit(deposit_question)\n",
    "    \n",
    "elif quest == 'w' or quest == 'W':\n",
    "    while True:\n",
    "        try:\n",
    "            withdrawal_question = int(input(\"How much money would you like to withdraw? \"))\n",
    "        except:\n",
    "            print(\"You have entered a wrong format, please type a number\")\n",
    "        else:\n",
    "            break\n",
    "    account_data.withdraw(withdrawal_question)\n",
    "    \n",
    "elif quest == 'b' or quest == 'B':\n",
    "    print(\"Your current balance is {} £\".format(account_data.balance))\n",
    "\n",
    "    "
   ]
  },
  {
   "cell_type": "code",
   "execution_count": null,
   "metadata": {},
   "outputs": [],
   "source": []
  }
 ],
 "metadata": {
  "kernelspec": {
   "display_name": "Python 3",
   "language": "python",
   "name": "python3"
  },
  "language_info": {
   "codemirror_mode": {
    "name": "ipython",
    "version": 3
   },
   "file_extension": ".py",
   "mimetype": "text/x-python",
   "name": "python",
   "nbconvert_exporter": "python",
   "pygments_lexer": "ipython3",
   "version": "3.7.0"
  }
 },
 "nbformat": 4,
 "nbformat_minor": 2
}
